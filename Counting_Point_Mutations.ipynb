{
  "nbformat": 4,
  "nbformat_minor": 0,
  "metadata": {
    "colab": {
      "provenance": [],
      "collapsed_sections": []
    },
    "kernelspec": {
      "name": "python3",
      "display_name": "Python 3"
    },
    "language_info": {
      "name": "python"
    }
  },
  "cells": [
    {
      "cell_type": "markdown",
      "source": [
        "![تنزيل.png](data:image/png;base64,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)\n",
        "\n",
        "Counting Point Mutations\n",
        "\n",
        "Ghadah aljohani  4051065  , Mashael Alshlash  4050743 ,Nouf Aloufi  4054307 \n",
        "\n",
        "\n",
        "Dr. Samar M. Alsaleh"
      ],
      "metadata": {
        "id": "WhpkZUuXn4VI"
      }
    },
    {
      "cell_type": "markdown",
      "source": [
        "👩🏽👩🏽👩🏽  We ask user input the string equal vlaue\n",
        "         "
      ],
      "metadata": {
        "id": "4ekIyvgUpCYN"
      }
    },
    {
      "cell_type": "code",
      "execution_count": null,
      "metadata": {
        "colab": {
          "base_uri": "https://localhost:8080/"
        },
        "id": "OblZbYF8ni4d",
        "outputId": "0c2ac046-05d3-4297-d9ad-d6cd40081df8"
      },
      "outputs": [
        {
          "name": "stdout",
          "output_type": "stream",
          "text": [
            "Enter string s \n",
            "AACCGGTTAGC\n",
            "Enter string t \n",
            "AAACGGTTAGT\n"
          ]
        }
      ],
      "source": [
        "s = input(\"Enter string s \\n\")\n",
        "t = input(\"Enter string t \\n\")"
      ]
    },
    {
      "cell_type": "markdown",
      "source": [
        "👩🏽👩🏽👩🏽 The Hamming distance between two strings "
      ],
      "metadata": {
        "id": "SBPThjIwpwQD"
      }
    },
    {
      "cell_type": "code",
      "source": [
        "\"\"\"Hamming distance between two strings of equal length is the number of positions at\n",
        "which the corresponding symbols are different\"\"\"\n",
        "\n",
        "def hamming_distance(s, t):\n",
        "    if len(s) != len(t):\n",
        "        print(\"Strings are not equal size!\")\n",
        "    else:\n",
        "        hamming_dist = 0\n",
        "        for position in range(len(s)): # len(s) == len(t) in this case\n",
        "            if s[position] != t[position]:\n",
        "                hamming_dist = hamming_dist + 1\n",
        "        return hamming_dist\n",
        "\n",
        "print(f\"Hamming distance for this example is: {hamming_distance(s,t)}\")"
      ],
      "metadata": {
        "colab": {
          "base_uri": "https://localhost:8080/"
        },
        "id": "Ttk_u64hnzq9",
        "outputId": "b38c3f07-85fa-436b-8250-83301b5ff0cd"
      },
      "execution_count": null,
      "outputs": [
        {
          "output_type": "stream",
          "name": "stdout",
          "text": [
            "Hamming distance for this example is: 2\n"
          ]
        }
      ]
    }
  ]
}